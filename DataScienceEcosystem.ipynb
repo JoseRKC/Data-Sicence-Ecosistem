{
 "cells": [
  {
   "cell_type": "markdown",
   "id": "3af2d492-a874-4417-a922-df36d85a44c8",
   "metadata": {},
   "source": [
    "# Data Science Tools and Ecosystem"
   ]
  },
  {
   "cell_type": "markdown",
   "id": "c2028f6c-5292-4a18-9f4f-1a5d890f1bf3",
   "metadata": {},
   "source": [
    "In this notebook, Data Science Tools and Ecosystem are summarized."
   ]
  },
  {
   "cell_type": "markdown",
   "id": "bafdde33-a2f9-49ee-8828-06384c2bdec9",
   "metadata": {},
   "source": [
    "**Objectives**\n",
    "- Understand the concepts and languages of data science.\n",
    "- know python and its libraries applied to data science\n",
    "- Know about structured and unstructured data types\n",
    "- learn basic concepts of SQL and R"
   ]
  },
  {
   "cell_type": "markdown",
   "id": "e30bc24b-922f-4150-bffe-0faa44e1cd24",
   "metadata": {},
   "source": [
    "Some of the popular languages that Data Scientists use are:\n",
    "1. Python\n",
    "2. R\n",
    "3. SQL\n"
   ]
  },
  {
   "cell_type": "markdown",
   "id": "cb6cc37b-9d44-41d5-bf88-3e71433fff87",
   "metadata": {
    "tags": []
   },
   "source": [
    "Some of the commonly used libraries used by Data Scientists include:\n",
    "1. Numpy\n",
    "2. Pandas\n",
    "3. Matlotlib"
   ]
  },
  {
   "cell_type": "markdown",
   "id": "a1407577-c80b-4489-a390-605080014579",
   "metadata": {
    "tags": []
   },
   "source": [
    "|Data Science Tools|\n",
    "|------------------|\n",
    "|Rstudio|\n",
    "|Jupyter Notebooks|\n",
    "|Apache Zeppelin|\n"
   ]
  },
  {
   "cell_type": "markdown",
   "id": "a4fe730c-d71e-49f5-8901-10dc727c475e",
   "metadata": {},
   "source": [
    "### Below are a few examples of evaluating arithmetic expressions in Python"
   ]
  },
  {
   "cell_type": "code",
   "execution_count": 4,
   "id": "fca83733-234c-4deb-86df-28cdc1d2395e",
   "metadata": {
    "tags": []
   },
   "outputs": [
    {
     "data": {
      "text/plain": [
       "17"
      ]
     },
     "execution_count": 4,
     "metadata": {},
     "output_type": "execute_result"
    }
   ],
   "source": [
    "# This a simple arithmetic expression to mutiply then add integers\n",
    "(3*4)+5"
   ]
  },
  {
   "cell_type": "code",
   "execution_count": 5,
   "id": "12e10138-6cda-4be3-9292-28df3c88f5fe",
   "metadata": {
    "tags": []
   },
   "outputs": [
    {
     "name": "stdout",
     "output_type": "stream",
     "text": [
      "3:20\n"
     ]
    }
   ],
   "source": [
    "# This will convert 200 minutes to hours by diving by 60\n",
    "horas = 200//60\n",
    "minutos=200%60\n",
    "print(f\"{horas}:{minutos}\")"
   ]
  },
  {
   "cell_type": "markdown",
   "id": "5b22a54f-d10c-4373-bdab-9bf6dc33fe85",
   "metadata": {},
   "source": [
    "## Author \n",
    "Jose Ramon Casas Condon"
   ]
  },
  {
   "cell_type": "code",
   "execution_count": null,
   "id": "6c6dfb3b-b2ea-45cb-ad44-ea364bd73fa3",
   "metadata": {},
   "outputs": [],
   "source": []
  }
 ],
 "metadata": {
  "kernelspec": {
   "display_name": "Python",
   "language": "python",
   "name": "conda-env-python-py"
  },
  "language_info": {
   "codemirror_mode": {
    "name": "ipython",
    "version": 3
   },
   "file_extension": ".py",
   "mimetype": "text/x-python",
   "name": "python",
   "nbconvert_exporter": "python",
   "pygments_lexer": "ipython3",
   "version": "3.7.12"
  }
 },
 "nbformat": 4,
 "nbformat_minor": 5
}
